{
 "cells": [
  {
   "cell_type": "code",
   "execution_count": 1,
   "metadata": {},
   "outputs": [],
   "source": [
    "from sklearn.cluster import KMeans\n",
    "import numpy as np\n",
    "import pandas as pd\n",
    "from sklearn.preprocessing import MinMaxScaler\n",
    "from matplotlib import pyplot as plt\n",
    "import os\n",
    "from os import listdir\n",
    "from skimage.io import imread, imshow\n",
    "from skimage import io, img_as_float\n",
    "from PIL import Image\n",
    "%matplotlib inline\n"
   ]
  },
  {
   "cell_type": "code",
   "execution_count": 2,
   "metadata": {},
   "outputs": [
    {
     "name": "stderr",
     "output_type": "stream",
     "text": [
      "C:\\Users\\ACHIN\\AppData\\Local\\Temp\\ipykernel_15512\\360296114.py:11: RuntimeWarning: divide by zero encountered in long_scalars\n",
      "  line = image + \",\" + str(np.mean(image_rep)) + \",\" + str((np.sum(image_rep ==0))/(np.sum(image_rep==255)) ) + \"\\n\"\n",
      "C:\\Users\\ACHIN\\AppData\\Local\\Temp\\ipykernel_15512\\360296114.py:11: RuntimeWarning: invalid value encountered in long_scalars\n",
      "  line = image + \",\" + str(np.mean(image_rep)) + \",\" + str((np.sum(image_rep ==0))/(np.sum(image_rep==255)) ) + \"\\n\"\n"
     ]
    }
   ],
   "source": [
    "folder_dir = \"C:/Users/ACHIN/Downloads/SHTEM References\"\n",
    "\n",
    "images = os.listdir(folder_dir)\n",
    "output_file = open('trainingdata.csv', 'w')\n",
    "header = output_file.write(\"File Name\" + \",\" + \"averagepixelvalue\" + \",\" + \"white/black\" + \"\\n\")\n",
    "for image in images:\n",
    "    if(image.endswith(\".png\") or image.endswith(\".jpg\") or image.endswith(\".jpeg\")):\n",
    "        image_rep = imread(image, as_gray = True)\n",
    "        \n",
    "        image_rep = img_as_float(image_rep)\n",
    "        line = image + \",\" + str(np.mean(image_rep)) + \",\" + str((np.sum(image_rep==255))/(np.sum(image_rep ==0))) + \"\\n\"\n",
    "        output_file.write(line)\n",
    "        \n",
    "output_file.close()\n"
   ]
  }
 ],
 "metadata": {
  "kernelspec": {
   "display_name": "Python 3.9.12 ('base')",
   "language": "python",
   "name": "python3"
  },
  "language_info": {
   "codemirror_mode": {
    "name": "ipython",
    "version": 3
   },
   "file_extension": ".py",
   "mimetype": "text/x-python",
   "name": "python",
   "nbconvert_exporter": "python",
   "pygments_lexer": "ipython3",
   "version": "3.9.12"
  },
  "orig_nbformat": 4,
  "vscode": {
   "interpreter": {
    "hash": "e76056549c371dd9e93a132e34c21249ed582678b613598791ceda83049fa860"
   }
  }
 },
 "nbformat": 4,
 "nbformat_minor": 2
}
